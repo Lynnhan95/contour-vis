{
 "cells": [
  {
   "cell_type": "code",
   "execution_count": 2,
   "metadata": {},
   "outputs": [],
   "source": [
    "import openpyxl\n",
    "from scipy import stats\n",
    "from pathlib import Path"
   ]
  },
  {
   "cell_type": "code",
   "execution_count": 3,
   "metadata": {},
   "outputs": [],
   "source": [
    "xlsx_file = Path('A.xlsx')\n",
    "wb_obj = openpyxl.load_workbook(xlsx_file)\n",
    "sheet = wb_obj.active"
   ]
  },
  {
   "cell_type": "code",
   "execution_count": 4,
   "metadata": {},
   "outputs": [
    {
     "name": "stdout",
     "output_type": "stream",
     "text": [
      "<Worksheet \"Sheet1\">\n"
     ]
    }
   ],
   "source": [
    "print(sheet)"
   ]
  },
  {
   "cell_type": "code",
   "execution_count": null,
   "metadata": {},
   "outputs": [],
   "source": []
  },
  {
   "cell_type": "code",
   "execution_count": 5,
   "metadata": {},
   "outputs": [
    {
     "name": "stdout",
     "output_type": "stream",
     "text": [
      "68134\n"
     ]
    }
   ],
   "source": [
    "i = 2\n",
    "print(sheet[\"c\"+str(i)].value)"
   ]
  },
  {
   "cell_type": "code",
   "execution_count": 6,
   "metadata": {},
   "outputs": [],
   "source": [
    "RESULT= []"
   ]
  },
  {
   "cell_type": "code",
   "execution_count": 7,
   "metadata": {
    "scrolled": true
   },
   "outputs": [
    {
     "name": "stdout",
     "output_type": "stream",
     "text": [
      "[700.0, 800.0, 700.0, 600.0, 700.0, 700.0]\n",
      "[700.0, 800.0, 800.0, 600.0, 0.0, 0.0]\n",
      "[800.0, 800.0, 0.0, 600.0, 500.0, 500.0]\n",
      "[600.0, 800.0, 800.0, 550.0, 550.0, 550.0]\n",
      "[700.0, 800.0, 700.0, 600.0, 400.0, 700.0]\n",
      "[700.0, 800.0, 0.0, 400.0, 0.0, 500.0]\n",
      "[600.0, 800.0, 800.0, 500.0, 500.0, 700.0]\n",
      "[0.0, 800.0, 800.0, 550.0, 0.0, 0.0]\n",
      "[750.0, 800.0, 0.0, 550.0, 0.0, 0.0]\n",
      "[700.0, 800.0, 500.0, 500.0, 500.0, 700.0]\n",
      "[0.0, 500.0, 700.0, 650.0, 300.0, 0.0]\n",
      "[800.0, 800.0, 600.0, 500.0, 0.0, 0.0]\n",
      "[620.0, 800.0, 0.0, 580.0, 0.0, 780.0]\n",
      "[800.0, 0.0, 0.0, 600.0, 0.0, 0.0]\n",
      "[540.0, 757.0, 757.0, 500.0, 757.0, 400.0]\n",
      "[700.0, 800.0, 0.0, 0.0, 500.0, 0.0]\n",
      "[600.0, 780.0, 0.0, 550.0, 490.0, 0.0]\n",
      "[800.0, 800.0, 0.0, 600.0, 0.0, 0.0]\n",
      "[700.0, 800.0, 800.0, 600.0, 0.0, 0.0]\n",
      "[600.0, 800.0, 500.0, 550.0, 500.0, 0.0]\n",
      "[600.0, 750.0, 550.0, 520.0, 0.0, 0.0]\n",
      "[800.0, 800.0, 800.0, 500.0, 500.0, 500.0]\n",
      "[800.0, 800.0, 0.0, 800.0, 800.0, 800.0]\n",
      "[600.0, 800.0, 600.0, 550.0, 400.0, 0.0]\n",
      "[750.0, 800.0, 0.0, 550.0, 0.0, 0.0]\n",
      "[1000.0, 1000.0, 1000.0, 700.0, 1000.0, 1000.0]\n",
      "[600.0, 800.0, 800.0, 500.0, 700.0, 700.0]\n",
      "[700.0, 800.0, 0.0, 600.0, 700.0, 700.0]\n",
      "[800.0, 800.0, 800.0, 600.0, 600.0, 600.0]\n",
      "[600.0, 800.0, 800.0, 500.0, 400.0, 400.0]\n",
      "[680.0, 800.0, 0.0, 600.0, 0.0, 530.0]\n",
      "[700.0, 800.0, 800.0, 500.0, 600.0, 600.0]\n",
      "[750.0, 800.0, 0.0, 600.0, 750.0, 750.0]\n",
      "[700.0, 800.0, 0.0, 600.0, 0.0, 800.0]\n",
      "[700.0, 800.0, 0.0, 400.0, 600.0, 600.0]\n",
      "[700.0, 700.0, 0.0, 600.0, 700.0, 700.0]\n",
      "[600.0, 700.0, 0.0, 600.0, 700.0, 0.0]\n"
     ]
    }
   ],
   "source": [
    "# for i in range(3 , 40):\n",
    "#     j =i + 44\n",
    "#     array1 = []\n",
    "#     array2 = []\n",
    "#     array1.append(float(sheet[\"E\"+str(i)].value))\n",
    "#     array1.append(float(sheet[\"J\"+str(i)].value))\n",
    "#     array1.append(float(sheet[\"O\"+str(i)].value))\n",
    "#     array1.append(float(sheet[\"T\"+str(i)].value))\n",
    "#     array1.append(float(sheet[\"Y\"+str(i)].value))\n",
    "#     array1.append(float(sheet[\"AD\"+str(i)].value))\n",
    "#     array2.append(float(sheet[\"E\"+str(j)].value))\n",
    "#     array2.append(float(sheet[\"J\"+str(j)].value))\n",
    "#     array2.append(float(sheet[\"O\"+str(j)].value))\n",
    "#     array2.append(float(sheet[\"T\"+str(j)].value))\n",
    "#     array2.append(float(sheet[\"Y\"+str(j)].value))\n",
    "#     array2.append(float(sheet[\"AD\"+str(j)].value))\n",
    "#     RESULT.append([stats.spearmanr(array1,[700,800,700,600,600,400]).correlation,stats.spearmanr(array1,[700,800,700,600,600,400]).pvalue,stats.spearmanr(array2,[900,800,800,1600,1000,1200]).correlation,stats.spearmanr(array2,[900,800,800,1600,1000,1200]).pvalue])"
   ]
  },
  {
   "cell_type": "code",
   "execution_count": 57,
   "metadata": {},
   "outputs": [
    {
     "name": "stdout",
     "output_type": "stream",
     "text": [
      "37\n",
      "0 14\n",
      "0 35\n"
     ]
    }
   ],
   "source": [
    "spearman_hunan = []\n",
    "pearson_hunan = []\n",
    "\n",
    "spearman_hunan_0 = []\n",
    "pearson_hunan_0 = []\n",
    "\n",
    "spearman_yunnan = []\n",
    "pearson_yunnan = []\n",
    "\n",
    "spearman_yunnan_0 = []\n",
    "pearson_yunnan_0 = []\n",
    "for i in range(3 , 40):\n",
    "    j =i + 44\n",
    "    array1 = []\n",
    "    array2 = []\n",
    "    array1.append(int(sheet[\"E\"+str(i)].value))\n",
    "    array1.append(int(sheet[\"J\"+str(i)].value))\n",
    "    array1.append(int(sheet[\"O\"+str(i)].value))\n",
    "    array1.append(int(sheet[\"T\"+str(i)].value))\n",
    "    array1.append(int(sheet[\"Y\"+str(i)].value))\n",
    "    array1.append(int(sheet[\"AD\"+str(i)].value))\n",
    "    array2.append(int(sheet[\"E\"+str(j)].value))\n",
    "    array2.append(int(sheet[\"J\"+str(j)].value))\n",
    "    array2.append(int(sheet[\"O\"+str(j)].value))\n",
    "    array2.append(int(sheet[\"T\"+str(j)].value))\n",
    "    array2.append(int(sheet[\"Y\"+str(j)].value))\n",
    "    array2.append(int(sheet[\"AD\"+str(j)].value))\n",
    "\n",
    "    \n",
    "    test_ary = []\n",
    "    base_ary = []\n",
    "    hunan = [700,800,700,600,600,400]\n",
    "    yunnan = [900,800,800,1600,1000,1200]\n",
    "    \n",
    "    spearman_hunan_0.append(stats.spearmanr(array1,hunan)[1]/2)\n",
    "    pearson_hunan_0.append(stats.pearsonr(array1,hunan)[1]/2)\n",
    "    \n",
    "    for i in [0,1,3,4]:\n",
    "            if array1[i] != 0 :\n",
    "                test_ary.append(array1[i])  \n",
    "                base_ary.append(hunan[i])\n",
    "    spearman_hunan.append(stats.spearmanr(test_ary,base_ary)[0])\n",
    "    pearson_hunan.append(stats.pearsonr(test_ary,base_ary)[1]/2)\n",
    "    test_ary = []\n",
    "    base_ary = []\n",
    "    \n",
    "    test_aryy = []\n",
    "    base_aryy = []\n",
    "    for i in range(len(array2)):\n",
    "        if array2[i] != 0 :\n",
    "            test_aryy.append(array2[i])  \n",
    "            base_aryy.append(yunnan[i])\n",
    "    spearman_yunnan.append(stats.spearmanr(test_aryy,base_aryy)[0])\n",
    "    pearson_yunnan.append(stats.pearsonr(test_aryy,base_aryy)[1]/2)\n",
    "    test_aryy = []\n",
    "    base_aryy = []\n",
    "\n",
    "# print(spearman_hunan)\n",
    "# print(pearson_hunan)\n",
    "counts =  sum(i < 0  for i in spearman_hunan)\n",
    "countp =  sum(i < 0.05  for i in pearson_hunan)\n",
    "\n",
    "# counts_0 =  sum(i < 0.05  for i in spearman_hunan_0)\n",
    "# countp_0 =  sum(i < 0.07  for i in pearson_hunan_0)\n",
    "\n",
    "\n",
    "print(len(spearman_hunan))\n",
    "print(counts,countp)\n",
    "# print(counts_0)\n",
    "# print(countp_0)\n",
    "\n",
    "\n",
    "\n",
    "countsy =  sum(i < 0  for i in spearman_yunnan)\n",
    "countpy=  sum(i < 0.05  for i in pearson_yunnan)\n",
    "\n",
    "print(countsy,countpy)"
   ]
  },
  {
   "cell_type": "code",
   "execution_count": 12,
   "metadata": {},
   "outputs": [],
   "source": [
    "import numpy as np\n",
    "import csv\n",
    "from csv import writer\n",
    " \n",
    "wtr = csv.writer(open ('result.csv', 'wt'), delimiter=',')\n",
    "for x in RESULT : \n",
    "    wtr.writerow (x)"
   ]
  },
  {
   "cell_type": "code",
   "execution_count": null,
   "metadata": {},
   "outputs": [],
   "source": []
  },
  {
   "cell_type": "code",
   "execution_count": null,
   "metadata": {},
   "outputs": [],
   "source": []
  }
 ],
 "metadata": {
  "kernelspec": {
   "display_name": "Python 3",
   "language": "python",
   "name": "python3"
  },
  "language_info": {
   "codemirror_mode": {
    "name": "ipython",
    "version": 3
   },
   "file_extension": ".py",
   "mimetype": "text/x-python",
   "name": "python",
   "nbconvert_exporter": "python",
   "pygments_lexer": "ipython3",
   "version": "3.6.8"
  }
 },
 "nbformat": 4,
 "nbformat_minor": 2
}
